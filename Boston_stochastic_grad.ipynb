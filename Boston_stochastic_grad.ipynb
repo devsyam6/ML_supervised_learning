{
 "cells": [
  {
   "cell_type": "code",
   "execution_count": 25,
   "metadata": {},
   "outputs": [],
   "source": [
    "from sklearn.datasets import load_boston\n",
    "from sklearn.model_selection import train_test_split,cross_val_score\n",
    "from sklearn.preprocessing import StandardScaler\n",
    "boston=load_boston()\n",
    "# boston.data\n",
    "# boston.DESCR"
   ]
  },
  {
   "cell_type": "code",
   "execution_count": 34,
   "metadata": {},
   "outputs": [
    {
     "name": "stdout",
     "output_type": "stream",
     "text": [
      "(127, 1)\n",
      "Cross Val Score:  [0.72918887 0.7028236  0.75092615 0.73552022 0.63109345]\n",
      "Average Cross Validation Score:  0.7099104581501224\n",
      "R squred Score :  0.7421331121009886\n"
     ]
    },
    {
     "name": "stderr",
     "output_type": "stream",
     "text": [
      "/home/jimbrootan/anaconda3/envs/pythonds/lib/python3.8/site-packages/sklearn/utils/validation.py:73: DataConversionWarning: A column-vector y was passed when a 1d array was expected. Please change the shape of y to (n_samples, ), for example using ravel().\n",
      "  return f(**kwargs)\n",
      "/home/jimbrootan/anaconda3/envs/pythonds/lib/python3.8/site-packages/sklearn/utils/validation.py:73: DataConversionWarning: A column-vector y was passed when a 1d array was expected. Please change the shape of y to (n_samples, ), for example using ravel().\n",
      "  return f(**kwargs)\n",
      "/home/jimbrootan/anaconda3/envs/pythonds/lib/python3.8/site-packages/sklearn/utils/validation.py:73: DataConversionWarning: A column-vector y was passed when a 1d array was expected. Please change the shape of y to (n_samples, ), for example using ravel().\n",
      "  return f(**kwargs)\n",
      "/home/jimbrootan/anaconda3/envs/pythonds/lib/python3.8/site-packages/sklearn/utils/validation.py:73: DataConversionWarning: A column-vector y was passed when a 1d array was expected. Please change the shape of y to (n_samples, ), for example using ravel().\n",
      "  return f(**kwargs)\n",
      "/home/jimbrootan/anaconda3/envs/pythonds/lib/python3.8/site-packages/sklearn/utils/validation.py:73: DataConversionWarning: A column-vector y was passed when a 1d array was expected. Please change the shape of y to (n_samples, ), for example using ravel().\n",
      "  return f(**kwargs)\n",
      "/home/jimbrootan/anaconda3/envs/pythonds/lib/python3.8/site-packages/sklearn/utils/validation.py:73: DataConversionWarning: A column-vector y was passed when a 1d array was expected. Please change the shape of y to (n_samples, ), for example using ravel().\n",
      "  return f(**kwargs)\n"
     ]
    }
   ],
   "source": [
    "from sklearn.linear_model import SGDRegressor\n",
    "import numpy as np\n",
    "\n",
    "X_train,X_test,y_train,y_test=train_test_split(boston.data,boston.target) # created test train datas using train test split\n",
    "X_train.shape\n",
    "\n",
    "XScaler= StandardScaler() # used to change the data set to scalar value\n",
    "yScaler= StandardScaler()\n",
    "\n",
    "y_train=y_train.reshape(y_train.shape[0],1) #avoide hard cording the datas \n",
    "y_test=y_test.reshape(y_test.shape[0],1) #reshaped from 1D to 2D array\n",
    "print(y_test.shape) #shape after conversion\n",
    "X_train=XScaler.fit_transform(X_train) # data paased through scaler form\n",
    "X_test=XScaler.fit_transform(X_test) # data paased through scaler form\n",
    "y_train=yScaler.fit_transform(y_train) # data paased through scaler form\n",
    "y_test=yScaler.fit_transform(y_test) # data paased through scaler form\n",
    "\n",
    "model =SGDRegressor(loss='squared_loss') #SGD Regression\n",
    "scores=cross_val_score(model,X_train,y_train,cv=5) #cross value score calclation\n",
    "model.fit(X_test,y_test) #learning the model\n",
    "print(\"Cross Val Score: \",scores)\n",
    "print('Average Cross Validation Score: ',np.mean(scores)) \n",
    "print(\"R squred Score : \",model.score(X_test,y_test))\n",
    "\n"
   ]
  },
  {
   "cell_type": "code",
   "execution_count": null,
   "metadata": {},
   "outputs": [],
   "source": []
  },
  {
   "cell_type": "code",
   "execution_count": null,
   "metadata": {},
   "outputs": [],
   "source": []
  },
  {
   "cell_type": "code",
   "execution_count": null,
   "metadata": {},
   "outputs": [],
   "source": []
  },
  {
   "cell_type": "code",
   "execution_count": null,
   "metadata": {},
   "outputs": [],
   "source": []
  },
  {
   "cell_type": "code",
   "execution_count": null,
   "metadata": {},
   "outputs": [],
   "source": []
  },
  {
   "cell_type": "code",
   "execution_count": null,
   "metadata": {},
   "outputs": [],
   "source": []
  }
 ],
 "metadata": {
  "kernelspec": {
   "display_name": "Python 3",
   "language": "python",
   "name": "python3"
  },
  "language_info": {
   "codemirror_mode": {
    "name": "ipython",
    "version": 3
   },
   "file_extension": ".py",
   "mimetype": "text/x-python",
   "name": "python",
   "nbconvert_exporter": "python",
   "pygments_lexer": "ipython3",
   "version": "3.8.3"
  }
 },
 "nbformat": 4,
 "nbformat_minor": 4
}
