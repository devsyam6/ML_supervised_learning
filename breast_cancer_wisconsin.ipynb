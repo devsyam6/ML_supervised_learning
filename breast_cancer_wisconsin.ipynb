{
 "cells": [
  {
   "cell_type": "code",
   "execution_count": 19,
   "metadata": {},
   "outputs": [
    {
     "name": "stdout",
     "output_type": "stream",
     "text": [
      "Best Parameters : Cost:8.0 ,Penalty:l1\n",
      "Score : 0.9448979591836735\n",
      "Coefficients:\n",
      "[[1.00000032 2.11011496 1.         1.27540034 2.19399506 1.59631723\n",
      "  1.45835589 1.83100726 0.74012141]]\n",
      "Using matplotlib backend: Qt5Agg\n",
      "Populating the interactive namespace from numpy and matplotlib\n",
      "AUC : 0.9870871526262186\n"
     ]
    },
    {
     "data": {
      "text/plain": [
       "Text(0, 0.5, 'Recall')"
      ]
     },
     "execution_count": 19,
     "metadata": {},
     "output_type": "execute_result"
    }
   ],
   "source": [
    "import pandas as pd\n",
    "import numpy as np\n",
    "from sklearn.preprocessing import LabelEncoder\n",
    "from sklearn.model_selection import train_test_split,GridSearchCV,KFold\n",
    "from sklearn.linear_model import LogisticRegression\n",
    " \n",
    "cancer = pd.read_csv(r'E:\\ML_data\\breast-cancer-wisconsin\\breast-cancer-wisconsin.data', header=None)\n",
    "\n",
    "cancer.dropna()\n",
    "\n",
    "X = cancer.drop([6,10],axis=1)\n",
    "y_raw = cancer[10].values\n",
    "\n",
    "y= LabelEncoder().fit_transform(y_raw)\n",
    "\n",
    "X_train,X_test,y_train,y_test = train_test_split(X,y,train_size=0.3,random_state=20)\n",
    "\n",
    "model = LogisticRegression(solver='liblinear')\n",
    "\n",
    "pen_val= ['l1','l2']\n",
    "c_val = 2.**np.arange(-5,10,2)\n",
    "params ={'C':c_val,'penalty':pen_val}\n",
    "\n",
    "log_model = GridSearchCV(estimator = model,param_grid = params,cv=KFold(n_splits=10))\n",
    "log_model.fit(X_train,y_train)\n",
    "\n",
    "best_c = log_model.best_params_[\"C\"]\n",
    "best_penalty = log_model.best_params_[\"penalty\"]\n",
    "\n",
    "print(\"Best Parameters : Cost:{0} ,Penalty:{1}\".format(best_c,best_penalty))\n",
    "\n",
    "best_model = LogisticRegression(C=best_c,penalty=best_penalty,solver='liblinear')\n",
    "best_model.fit(X_train,y_train)\n",
    "\n",
    "pred= best_model.predict(X_test)\n",
    "pred_proba = best_model.predict_proba(X_test)\n",
    "\n",
    "\n",
    "print(\"Score :\",best_model.score(X_test,y_test))\n",
    "\n",
    "print(\"Coefficients:\")\n",
    "\n",
    "print(np.exp(best_model.coef_))\n",
    "\n",
    "%pylab\n",
    "\n",
    "from sklearn.metrics import roc_curve,auc\n",
    "\n",
    "fpr,tpr,tresholds = roc_curve(y_test,pred_proba[:,1])\n",
    "\n",
    "auc_val = auc(fpr,tpr)\n",
    " \n",
    "print(\"AUC :\",auc_val)\n",
    "\n",
    "plt.title('ROC-AUC Curve')\n",
    "\n",
    "plt.plot(fpr,tpr)\n",
    "\n",
    "plt.xlabel('Fall out')\n",
    "plt.ylabel('Recall')\n",
    " \n",
    "\n",
    "    \n",
    "\n"
   ]
  },
  {
   "cell_type": "code",
   "execution_count": null,
   "metadata": {},
   "outputs": [],
   "source": []
  }
 ],
 "metadata": {
  "kernelspec": {
   "display_name": "Python 3",
   "language": "python",
   "name": "python3"
  },
  "language_info": {
   "codemirror_mode": {
    "name": "ipython",
    "version": 3
   },
   "file_extension": ".py",
   "mimetype": "text/x-python",
   "name": "python",
   "nbconvert_exporter": "python",
   "pygments_lexer": "ipython3",
   "version": "3.7.9"
  }
 },
 "nbformat": 4,
 "nbformat_minor": 4
}
