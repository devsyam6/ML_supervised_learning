{
 "cells": [
  {
   "cell_type": "code",
   "execution_count": 16,
   "metadata": {},
   "outputs": [
    {
     "data": {
      "text/plain": [
       "LogisticRegression()"
      ]
     },
     "execution_count": 16,
     "metadata": {},
     "output_type": "execute_result"
    }
   ],
   "source": [
    "import pandas as pd\n",
    "import numpy as np\n",
    "    \n",
    "from sklearn.model_selection import train_test_split\n",
    "from sklearn.feature_extraction.text import TfidfVectorizer\n",
    "from sklearn.linear_model import LogisticRegression\n",
    "\n",
    "\n",
    "data=pd.read_csv('/home/jimbrootan/Desktop/ML_data/smsspamcollection/SMSSpamCollection',delimiter='\\t', header=None)\n",
    "data\n",
    "\n",
    "X_train_raw,X_test_raw,y_train,y_test=train_test_split(data.iloc[:,1],data.iloc[:,0])\n",
    "\n",
    "vectorizer=TfidfVectorizer()\n",
    "X_train=vectorizer.fit_transform(X_train_raw)\n",
    "X_test=vectorizer.transform(X_test_raw)\n",
    "\n",
    "model=LogisticRegression()\n",
    "\n",
    "model.fit(X_train,y_train)\n"
   ]
  },
  {
   "cell_type": "code",
   "execution_count": 47,
   "metadata": {},
   "outputs": [
    {
     "name": "stdout",
     "output_type": "stream",
     "text": [
      "[[0.93632177 0.06367823]\n",
      " [0.94661942 0.05338058]\n",
      " [0.91793706 0.08206294]\n",
      " ...\n",
      " [0.96997481 0.03002519]\n",
      " [0.98155219 0.01844781]\n",
      " [0.94692094 0.05307906]]\n"
     ]
    },
    {
     "name": "stderr",
     "output_type": "stream",
     "text": [
      "/home/jimbrootan/anaconda3/envs/pythonds/lib/python3.8/site-packages/sklearn/utils/validation.py:68: FutureWarning: Pass pos_label=spam as keyword args. From version 0.25 passing these as positional arguments will result in an error\n",
      "  warnings.warn(\"Pass {} as keyword args. From version 0.25 \"\n"
     ]
    },
    {
     "data": {
      "image/png": "[encoded data removed]",
      "text/plain": [
       "<Figure size 432x288 with 1 Axes>"
      ]
     },
     "metadata": {
      "needs_background": "light"
     },
     "output_type": "display_data"
    }
   ],
   "source": [
    "\"\"\"ROC AND AUC PLOTTING\"\"\"\n",
    "\n",
    "from sklearn.metrics import roc_curve,auc\n",
    "\n",
    "import matplotlib.pyplot as plt\n",
    "\n",
    "pred=model.predict_proba(X_test)\n",
    "print(pred)\n",
    "\n",
    "fpr,tpr,thresolds=roc_curve(y_test,pred[:,1],'spam')\n",
    "roc_auc=auc(fpr,tpr)\n",
    "\n",
    "plt.title(\"ROC-AUC CURVE\")\n",
    "plt.plot(fpr,tpr,'r',label='AUC = %0.2f'% roc_auc)\n",
    "plt.xlabel(\"Fall-OUT\")\n",
    "plt.ylabel('Recall')\n",
    "plt.legend(loc=\"lower right\")\n",
    "plt.show()"
   ]
  },
  {
   "cell_type": "code",
   "execution_count": null,
   "metadata": {},
   "outputs": [],
   "source": []
  },
  {
   "cell_type": "code",
   "execution_count": null,
   "metadata": {},
   "outputs": [],
   "source": []
  },
  {
   "cell_type": "code",
   "execution_count": null,
   "metadata": {},
   "outputs": [],
   "source": []
  },
  {
   "cell_type": "code",
   "execution_count": null,
   "metadata": {},
   "outputs": [],
   "source": []
  },
  {
   "cell_type": "code",
   "execution_count": null,
   "metadata": {},
   "outputs": [],
   "source": []
  }
 ],
 "metadata": {
  "kernelspec": {
   "display_name": "Python 3",
   "language": "python",
   "name": "python3"
  },
  "language_info": {
   "codemirror_mode": {
    "name": "ipython",
    "version": 3
   },
   "file_extension": ".py",
   "mimetype": "text/x-python",
   "name": "python",
   "nbconvert_exporter": "python",
   "pygments_lexer": "ipython3",
   "version": "3.8.3"
  },
  "widgets": {
   "application/vnd.jupyter.widget-state+json": {
    "state": {},
    "version_major": 2,
    "version_minor": 0
   }
  }
 },
 "nbformat": 4,
 "nbformat_minor": 4
}
