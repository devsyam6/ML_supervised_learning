{
 "cells": [
  {
   "cell_type": "code",
   "execution_count": null,
   "metadata": {},
   "outputs": [],
   "source": [
    "import pandas as pd\n",
    "import numpy as np\n",
    "from sklearn.model_selection import train_test_split,GridSearchCV\n",
    "from sklearn.feature_extraction.text import TfidfVectorizer\n",
    "from sklearn.linear_model import LogisticRegression\n",
    "from sklearn.preprocessing import LabelBinarizer\n",
    "from sklearn.pipeline import Pipeline"
   ]
  },
  {
   "cell_type": "code",
   "execution_count": null,
   "metadata": {},
   "outputs": [],
   "source": [
    "\n",
    "data=pd.read_csv(\n",
    "    '/home/jimbrootan/Desktop/ML_data/smsspamcollection/SMSSpamCollection',\n",
    "                 delimiter='\\t',\n",
    "                 header=None\n",
    "                )\n",
    "data\n",
    "\n",
    "X_train,X_test,y_train,y_test=train_test_split(data.iloc[:,1],data.iloc[:,0])\n",
    "\n",
    "label=LabelBinarizer()\n",
    "pipeline=Pipeline([\n",
    "    ('vect',TfidfVectorizer(stop_words='English')),\n",
    "    ('clf',LogisticRegression())\n",
    "])"
   ]
  },
  {
   "cell_type": "code",
   "execution_count": null,
   "metadata": {},
   "outputs": [],
   "source": [
    "\"\"\"HYPER_PARAMETER && Permutaion and combinations\"\"\"\n",
    "\n",
    "parameters= {\n",
    "    'vect__max_df':(0.25,0.5,0.75),\n",
    "    'vect__stop_words':('english',None),\n",
    "    'vect__max_features':(2500,5000,10000,None),\n",
    "    'vect__ngram_range':((1,1),(1,2)),\n",
    "    'vect__use_idf':(True,False),\n",
    "    'vect__norm':('l1','l2'),\n",
    "    'clf__penalty':('l1','l2'),\n",
    "    'clf__C':(0.01,0.1,1,0)\n",
    "}"
   ]
  },
  {
   "cell_type": "code",
   "execution_count": null,
   "metadata": {},
   "outputs": [],
   "source": [
    "\"\"\"Grid Searching\"\"\"\n",
    "\n",
    "grid_search= GridSearchCV(pipeline,parameters,n_jobs=-1,verbose=1,scoring='accuracy',cv=3)\n",
    "y_train=np.array([number[0] for number in label.fit_transform(y_train)])\n",
    "\n",
    "\n",
    "grid_search.fit(X_train,y_train)\n",
    "print(\"BEST SCORE : %0.3f\"%grid_search.best_score_)\n",
    "print(\"BEST PARAMETER SET: : \")\n",
    "best_params=grid_search.best_estimator_.get_params()\n",
    "for param_name in sorted(parameters):\n",
    "    print('%s :%r'%(param_name,best_params[param_name]))"
   ]
  },
  {
   "cell_type": "code",
   "execution_count": null,
   "metadata": {},
   "outputs": [],
   "source": [
    "from sklearn.metrics import accuracy_score,precision_score,recall_score,f1_score\n",
    "\n",
    "y_test=np.array([number[0] for number in label.fit_transform(y_test)])\n",
    "\n",
    "pred=grid_search.predict(X_test)\n",
    "print(\"ACCURACY_SCORE: %0.5f\"%accuracy_score(y_test,pred))\n",
    "print(\"PRECISION_SCORE: %0.5f\"%precision_score(y_test,pred))\n",
    "print(\"RECALL_SCORE: %0.5f\"%recall_score(y_test,pred))\n",
    "print(\"F1_SCORE: %0.5f\"%f1_score(y_test,pred))\n"
   ]
  },
  {
   "cell_type": "code",
   "execution_count": null,
   "metadata": {},
   "outputs": [],
   "source": []
  },
  {
   "cell_type": "code",
   "execution_count": null,
   "metadata": {},
   "outputs": [],
   "source": []
  },
  {
   "cell_type": "code",
   "execution_count": null,
   "metadata": {},
   "outputs": [],
   "source": []
  },
  {
   "cell_type": "code",
   "execution_count": null,
   "metadata": {},
   "outputs": [],
   "source": []
  },
  {
   "cell_type": "code",
   "execution_count": null,
   "metadata": {},
   "outputs": [],
   "source": []
  },
  {
   "cell_type": "code",
   "execution_count": null,
   "metadata": {},
   "outputs": [],
   "source": []
  }
 ],
 "metadata": {
  "kernelspec": {
   "display_name": "Python 3",
   "language": "python",
   "name": "python3"
  },
  "language_info": {
   "codemirror_mode": {
    "name": "ipython",
    "version": 3
   },
   "file_extension": ".py",
   "mimetype": "text/x-python",
   "name": "python",
   "nbconvert_exporter": "python",
   "pygments_lexer": "ipython3",
   "version": "3.8.5"
  }
 },
 "nbformat": 4,
 "nbformat_minor": 4
}
