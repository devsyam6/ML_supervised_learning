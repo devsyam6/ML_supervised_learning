{
 "cells": [
  {
   "cell_type": "code",
   "execution_count": 17,
   "metadata": {},
   "outputs": [
    {
     "name": "stderr",
     "output_type": "stream",
     "text": [
      "/home/jimbrootan/anaconda3/envs/pythonds/lib/python3.8/site-packages/IPython/core/interactiveshell.py:3338: DtypeWarning: Columns (3) have mixed types.Specify dtype option on import or set low_memory=False.\n",
      "  if (await self.run_code(code, result,  async_=asy)):\n",
      "/home/jimbrootan/anaconda3/envs/pythonds/lib/python3.8/site-packages/pandas/core/frame.py:4379: SettingWithCopyWarning: \n",
      "A value is trying to be set on a copy of a slice from a DataFrame\n",
      "\n",
      "See the caveats in the documentation: https://pandas.pydata.org/pandas-docs/stable/user_guide/indexing.html#returning-a-view-versus-a-copy\n",
      "  return super().replace(\n"
     ]
    },
    {
     "name": "stdout",
     "output_type": "stream",
     "text": [
      "Fitting 5 folds for each of 9 candidates, totalling 45 fits\n"
     ]
    },
    {
     "name": "stderr",
     "output_type": "stream",
     "text": [
      "[Parallel(n_jobs=-1)]: Using backend LokyBackend with 4 concurrent workers.\n",
      "[Parallel(n_jobs=-1)]: Done  45 out of  45 | elapsed:  1.0min finished\n"
     ]
    },
    {
     "name": "stdout",
     "output_type": "stream",
     "text": [
      "Best Score: 0.8750\n",
      "Best Parametrs Set: \n",
      "\n",
      "\t clf__max_depth: 160\n",
      "\t clf__min_samples_leaf: 1\n",
      "              precision    recall  f1-score   support\n",
      "\n",
      "           0       0.97      0.98      0.98      1416\n",
      "           1       0.87      0.83      0.85       224\n",
      "\n",
      "    accuracy                           0.96      1640\n",
      "   macro avg       0.92      0.90      0.91      1640\n",
      "weighted avg       0.96      0.96      0.96      1640\n",
      "\n"
     ]
    }
   ],
   "source": [
    "import pandas as pd\n",
    "from sklearn.model_selection import train_test_split,GridSearchCV\n",
    "from sklearn.tree import DecisionTreeClassifier\n",
    "from sklearn.pipeline import Pipeline\n",
    "from sklearn.metrics import classification_report\n",
    "\n",
    "def main():\n",
    "    advt=pd.read_csv(r'/home/jimbrootan/Desktop/ML_data/Internet_Advertisements_Data_Set/ad.data',header=None)\n",
    "#     print(advt)\n",
    "    explanatory_cols = set(advt.columns.values)\n",
    "#     print(explanatory_cols)\n",
    "    response_cols=advt[len(advt.columns.values)-1]\n",
    "#     print(response_cols)\n",
    "    explanatory_cols.remove(len(advt.columns.values)-1)\n",
    "#     print(explanatory_cols)\n",
    "    X=advt[list(explanatory_cols)] #another way of extracting values insted of using iloc.\n",
    "    X.replace(to_replace='\\?',value=-1,regex=True,inplace=True)\n",
    "#     print(X)\n",
    "    y=[1 if e=='ad.' else 0 for e in response_cols]\n",
    "#     print(y)\n",
    "    \"\"\"Model Selection\"\"\"\n",
    "    X_train,X_test,y_train,y_test=train_test_split(X,y,train_size=0.5)\n",
    "    \n",
    "    \"\"\"Pipeline\"\"\"\n",
    "    pipeline=Pipeline([\n",
    "        ('clf',DecisionTreeClassifier(criterion='entropy'))\n",
    "    ])\n",
    "    parameters={\n",
    "        'clf__max_depth':(150,160,170),\n",
    "        'clf__min_samples_leaf':(1,2,3)\n",
    "    }\n",
    "    \"\"\"Grid search\"\"\"\n",
    "    grid_search=GridSearchCV(pipeline,parameters,n_jobs=-1,verbose=1,scoring='f1')\n",
    "    grid_search.fit(X_train,y_train)\n",
    "    \n",
    "    print('Best Score: %.3f0'%grid_search.best_score_)\n",
    "    print('Best Parametrs Set: \\n')\n",
    "    best_params=grid_search.best_estimator_.get_params()\n",
    "    for param_name in sorted(parameters.keys()):\n",
    "        print('\\t %s: %r'%(param_name,best_params[param_name]))\n",
    "    \n",
    "    pred=grid_search.predict(X_test)\n",
    "    print(classification_report(y_test,pred))\n",
    "    \n",
    "if __name__==\"__main__\":\n",
    "    main()"
   ]
  },
  {
   "cell_type": "code",
   "execution_count": 9,
   "metadata": {},
   "outputs": [
    {
     "ename": "NameError",
     "evalue": "name 'X' is not defined",
     "output_type": "error",
     "traceback": [
      "\u001b[0;31m---------------------------------------------------------------------------\u001b[0m",
      "\u001b[0;31mNameError\u001b[0m                                 Traceback (most recent call last)",
      "\u001b[0;32m<ipython-input-9-1e30e1d60ce2>\u001b[0m in \u001b[0;36m<module>\u001b[0;34m\u001b[0m\n\u001b[1;32m      2\u001b[0m \u001b[0;32mfrom\u001b[0m \u001b[0msklearn\u001b[0m\u001b[0;34m.\u001b[0m\u001b[0mmodel_selection\u001b[0m \u001b[0;32mimport\u001b[0m \u001b[0mtrain_test_split\u001b[0m\u001b[0;34m,\u001b[0m\u001b[0mGridSearchCV\u001b[0m\u001b[0;34m\u001b[0m\u001b[0;34m\u001b[0m\u001b[0m\n\u001b[1;32m      3\u001b[0m \u001b[0;34m\u001b[0m\u001b[0m\n\u001b[0;32m----> 4\u001b[0;31m \u001b[0mX_train\u001b[0m\u001b[0;34m,\u001b[0m\u001b[0mX_test\u001b[0m\u001b[0;34m,\u001b[0m\u001b[0my_train\u001b[0m\u001b[0;34m,\u001b[0m\u001b[0my_test\u001b[0m\u001b[0;34m=\u001b[0m\u001b[0mtrain_test_split\u001b[0m\u001b[0;34m(\u001b[0m\u001b[0mX\u001b[0m\u001b[0;34m,\u001b[0m\u001b[0my\u001b[0m\u001b[0;34m,\u001b[0m\u001b[0msize\u001b[0m\u001b[0;34m=\u001b[0m\u001b[0;36m0.5\u001b[0m\u001b[0;34m)\u001b[0m\u001b[0;34m\u001b[0m\u001b[0;34m\u001b[0m\u001b[0m\n\u001b[0m",
      "\u001b[0;31mNameError\u001b[0m: name 'X' is not defined"
     ]
    }
   ],
   "source": [
    "\n",
    "\n",
    "if __name__==\"__main__\":\n",
    "    main()"
   ]
  },
  {
   "cell_type": "code",
   "execution_count": null,
   "metadata": {},
   "outputs": [],
   "source": []
  },
  {
   "cell_type": "code",
   "execution_count": null,
   "metadata": {},
   "outputs": [],
   "source": []
  }
 ],
 "metadata": {
  "kernelspec": {
   "display_name": "Python 3",
   "language": "python",
   "name": "python3"
  },
  "language_info": {
   "codemirror_mode": {
    "name": "ipython",
    "version": 3
   },
   "file_extension": ".py",
   "mimetype": "text/x-python",
   "name": "python",
   "nbconvert_exporter": "python",
   "pygments_lexer": "ipython3",
   "version": "3.8.5"
  }
 },
 "nbformat": 4,
 "nbformat_minor": 4
}
