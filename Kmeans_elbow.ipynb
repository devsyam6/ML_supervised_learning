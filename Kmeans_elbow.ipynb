{
 "cells": [
  {
   "cell_type": "code",
   "execution_count": 4,
   "metadata": {
    "scrolled": true
   },
   "outputs": [
    {
     "name": "stdout",
     "output_type": "stream",
     "text": [
      "cluster1: \n",
      " [[1.24179822 1.27212554 0.65590194 1.0698114  0.59379797 0.85171655\n",
      "  1.26562233 1.04607845 1.18330167 0.51816605]\n",
      " [0.77059365 1.16955223 1.35644827 0.67326274 1.43667036 1.1065928\n",
      "  0.69046009 1.4065089  1.14240023 1.01021407]]\n",
      "cluster2: \n",
      " [[3.79788265 4.19438038 4.14882804 4.20581374 3.87685192 4.40464364\n",
      "  4.00126448 3.52219029 4.19092205 3.99930985]\n",
      " [3.91908847 3.69472996 4.40084936 3.6404923  3.79385874 4.02762807\n",
      "  3.82919341 3.56240146 4.28635452 3.79248573]]\n"
     ]
    }
   ],
   "source": [
    "import numpy as np\n",
    "\n",
    "cluster1=np.random.uniform(0.5,1.5, (2,10))\n",
    "print('cluster1: \\n',cluster1)\n",
    "\n",
    "cluster2=np.random.uniform(3.5,4.5, (2,10))\n",
    "print('cluster2: \\n',cluster2)\n"
   ]
  },
  {
   "cell_type": "code",
   "execution_count": 11,
   "metadata": {},
   "outputs": [],
   "source": [
    "\"\"\"Horizontal Stacking\"\"\"\n",
    "X1= np.hstack((cluster1,cluster2)).T #transpose\n",
    "# print(X1)\n",
    "X2=np.hstack((cluster1,cluster1)).T\n",
    "\n",
    "X=np.vstack((X1,X2)) #mixing two staks in vertical form\n",
    "\n",
    "K=range(1,10)"
   ]
  },
  {
   "cell_type": "code",
   "execution_count": 19,
   "metadata": {},
   "outputs": [
    {
     "name": "stdout",
     "output_type": "stream",
     "text": [
      "Mean Distortion values in itration:\n",
      "\n",
      "[1.6000656265089876]\n",
      "[1.6000656265089876, 0.3560378458614602]\n",
      "[1.6000656265089876, 0.3560378458614602, 0.25371646043409407]\n",
      "[1.6000656265089876, 0.3560378458614602, 0.25371646043409407, 0.19386699098634647]\n",
      "[1.6000656265089876, 0.3560378458614602, 0.25371646043409407, 0.19386699098634647, 0.1661892325610608]\n",
      "[1.6000656265089876, 0.3560378458614602, 0.25371646043409407, 0.19386699098634647, 0.1661892325610608, 0.13724344648586453]\n",
      "[1.6000656265089876, 0.3560378458614602, 0.25371646043409407, 0.19386699098634647, 0.1661892325610608, 0.13724344648586453, 0.11189659924381931]\n",
      "[1.6000656265089876, 0.3560378458614602, 0.25371646043409407, 0.19386699098634647, 0.1661892325610608, 0.13724344648586453, 0.11189659924381931, 0.09748651578828701]\n",
      "[1.6000656265089876, 0.3560378458614602, 0.25371646043409407, 0.19386699098634647, 0.1661892325610608, 0.13724344648586453, 0.11189659924381931, 0.09748651578828701, 0.07144684514107687]\n",
      "40\n"
     ]
    }
   ],
   "source": [
    "\"\"\"FInding the Kmean value\"\"\"\n",
    "from sklearn.cluster import KMeans\n",
    "from scipy.spatial.distance import cdist\n",
    "\"\"\"SCIPY_SPATIAL-DISTANCE: used to compute the distance between two inputs\"\"\"\n",
    "meandistortion=[]\n",
    "print(\"Mean Distortion values in itration:\\n\")\n",
    "for k in K:\n",
    "    kMeans=KMeans(n_clusters=k)\n",
    "    kMeans.fit(X)\n",
    "    meandistortion.append(sum(np.min(cdist(X,kMeans.cluster_centers_,'euclidean'),axis=1))/X.shape[0])\n",
    "    print(meandistortion)\n",
    "print(X.shape[0])"
   ]
  },
  {
   "cell_type": "code",
   "execution_count": 24,
   "metadata": {},
   "outputs": [
    {
     "data": {
      "text/plain": [
       "<function matplotlib.pyplot.show(close=None, block=None)>"
      ]
     },
     "execution_count": 24,
     "metadata": {},
     "output_type": "execute_result"
    },
    {
     "data": {
      "image/png": "[encoded data removed]",
      "text/plain": [
       "<Figure size 432x288 with 1 Axes>"
      ]
     },
     "metadata": {
      "needs_background": "light"
     },
     "output_type": "display_data"
    }
   ],
   "source": [
    "\"\"\"Plotting the  K_means-Elbow values // Desortition values\"\"\"\n",
    "import matplotlib.pyplot as plt\n",
    "plt.plot(K,meandistortion,'bx-')\n",
    "plt.title(\"Selecting K using Elbow method\")\n",
    "plt.ylabel('Average Distortion')\n",
    "plt.xlabel('k')\n",
    "plt.show"
   ]
  },
  {
   "cell_type": "code",
   "execution_count": null,
   "metadata": {},
   "outputs": [],
   "source": []
  },
  {
   "cell_type": "code",
   "execution_count": null,
   "metadata": {},
   "outputs": [],
   "source": []
  },
  {
   "cell_type": "code",
   "execution_count": null,
   "metadata": {},
   "outputs": [],
   "source": []
  },
  {
   "cell_type": "code",
   "execution_count": null,
   "metadata": {},
   "outputs": [],
   "source": []
  },
  {
   "cell_type": "code",
   "execution_count": null,
   "metadata": {},
   "outputs": [],
   "source": []
  },
  {
   "cell_type": "code",
   "execution_count": null,
   "metadata": {},
   "outputs": [],
   "source": []
  },
  {
   "cell_type": "code",
   "execution_count": null,
   "metadata": {},
   "outputs": [],
   "source": []
  },
  {
   "cell_type": "code",
   "execution_count": null,
   "metadata": {},
   "outputs": [],
   "source": []
  },
  {
   "cell_type": "code",
   "execution_count": null,
   "metadata": {},
   "outputs": [],
   "source": []
  }
 ],
 "metadata": {
  "kernelspec": {
   "display_name": "Python 3",
   "language": "python",
   "name": "python3"
  },
  "language_info": {
   "codemirror_mode": {
    "name": "ipython",
    "version": 3
   },
   "file_extension": ".py",
   "mimetype": "text/x-python",
   "name": "python",
   "nbconvert_exporter": "python",
   "pygments_lexer": "ipython3",
   "version": "3.8.5"
  }
 },
 "nbformat": 4,
 "nbformat_minor": 4
}
